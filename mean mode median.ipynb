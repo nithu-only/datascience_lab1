{
 "cells": [
  {
   "cell_type": "code",
   "execution_count": 8,
   "id": "f53b88f5",
   "metadata": {},
   "outputs": [
    {
     "name": "stdout",
     "output_type": "stream",
     "text": [
      "Enter the number of element:5\n",
      "Enter the numbers  :3\n",
      "Enter the numbers  :5\n",
      "Enter the numbers  :2\n",
      "Enter the numbers  :4\n",
      "Enter the numbers  :5\n",
      "19\n",
      "[2, 3, 4, 5, 5]\n",
      "Mean is: 3.8\n",
      "The mean (with function): 3.8\n"
     ]
    }
   ],
   "source": [
    "number=[]\n",
    "n=int(input(\"Enter the number of element:\"))\n",
    "\n",
    "#calculating mean without function\n",
    "sum=0\n",
    "for i in range(n):\n",
    "    num=int(input(\"Enter the numbers  :\"))\n",
    "    number.append(num)\n",
    "    sum=sum+num\n",
    "print(sum)\n",
    "a=sorted(number)\n",
    "print(a)\n",
    "mean=sum/n\n",
    "print(\"Mean is:\",mean)\n",
    "\n",
    "#calculating mean with function\n",
    "import statistics\n",
    "print(\"The mean (with function):\",statistics.mean(number))\n",
    "\n"
   ]
  },
  {
   "cell_type": "code",
   "execution_count": 10,
   "id": "39fa02be",
   "metadata": {},
   "outputs": [
    {
     "name": "stdout",
     "output_type": "stream",
     "text": [
      "2\n",
      "Median is: 4\n",
      "median (with function): 4\n"
     ]
    }
   ],
   "source": [
    "#calculating median without function\n",
    "mid=len(a)//2\n",
    "print(mid)\n",
    "if n%2==0:\n",
    "    median = (a[mid-1]+a[mid])/2\n",
    "else:\n",
    "    median = a[mid]\n",
    "print(\"Median is: \" + str(median))\n",
    "\n",
    "#calculating with function\n",
    "import statistics\n",
    "print(\"median (with function):\",statistics.median(number))\n"
   ]
  },
  {
   "cell_type": "code",
   "execution_count": null,
   "id": "9e426ef7",
   "metadata": {},
   "outputs": [],
   "source": []
  },
  {
   "cell_type": "code",
   "execution_count": 11,
   "id": "ccad6fe3",
   "metadata": {},
   "outputs": [
    {
     "name": "stdout",
     "output_type": "stream",
     "text": [
      "mode :  5\n",
      "mode (with function): 5\n"
     ]
    }
   ],
   "source": [
    "#calculating mode without funtion \n",
    "dict1={}\n",
    "for item in number:\n",
    "    if item in dict1:\n",
    "        dict1[item]+=1\n",
    "    else:\n",
    "        dict1[item]=1\n",
    "m=max(dict1.values())\n",
    "for k,v, in dict1.items():\n",
    "    if v==m:\n",
    "        print(\"mode : \",k)\n",
    "\n",
    "#calculating monde with function\n",
    "import statistics\n",
    "print(\"mode (with function):\",statistics.mode(number))"
   ]
  },
  {
   "cell_type": "code",
   "execution_count": 12,
   "id": "e21e7bfd",
   "metadata": {},
   "outputs": [
    {
     "name": "stdout",
     "output_type": "stream",
     "text": [
      "Enter the number of element:5\n",
      "Enter the numbers  :3\n",
      "Enter the numbers  :4\n",
      "Enter the numbers  :5\n",
      "Enter the numbers  :6\n",
      "Enter the numbers  :5\n",
      "23\n",
      "[3, 4, 5, 5, 6]\n",
      "Mean is: 4.6\n",
      "2\n",
      "Median is: 5\n",
      "mode :  5\n"
     ]
    }
   ],
   "source": [
    "number=[]\n",
    "n=int(input(\"Enter the number of element:\"))\n",
    "sum=0\n",
    "for i in range(n):\n",
    "    num=int(input(\"Enter the numbers  :\"))\n",
    "    number.append(num)\n",
    "    sum=sum+num\n",
    "print(sum)\n",
    "a=sorted(number)\n",
    "print(a)  \n",
    "mean=sum/n\n",
    "print(\"Mean is:\",mean)\n",
    "mid=len(a)//2\n",
    "print(mid)\n",
    "if n%2==0:\n",
    "    median = (a[mid-1]+a[mid])/2\n",
    "else:\n",
    "    median = a[mid]\n",
    "print(\"Median is: \" + str(median))\n",
    "\n",
    "dict1={}\n",
    "for item in number:\n",
    "    if item in dict1:\n",
    "        dict1[item]+=1\n",
    "    else:\n",
    "        dict1[item]=1\n",
    "m=max(dict1.values())\n",
    "for k,v, in dict1.items():\n",
    "    if v==m:\n",
    "        print(\"mode : \",k)"
   ]
  },
  {
   "cell_type": "code",
   "execution_count": 1,
   "id": "49909873",
   "metadata": {},
   "outputs": [
    {
     "name": "stdout",
     "output_type": "stream",
     "text": [
      "enter the number of elements6\n",
      "ent5er the elements :4\n",
      "ent5er the elements :3\n",
      "ent5er the elements :2\n",
      "ent5er the elements :5\n",
      "ent5er the elements :6\n",
      "ent5er the elements :4\n",
      "the created list is [4, 3, 2, 5, 6, 4]\n"
     ]
    }
   ],
   "source": [
    "# FIRST LET US CREATE AN LIST USING PROMPT\n",
    "data=[]\n",
    "n=int(input(\"enter the number of elements\"))\n",
    "for i in range(0,n):\n",
    "  ele=int(input(\"ent5er the elements :\"))\n",
    "  data.append(ele)\n",
    "print(\"the created list is\",data)"
   ]
  },
  {
   "cell_type": "code",
   "execution_count": 2,
   "id": "fad3b80c",
   "metadata": {},
   "outputs": [
    {
     "name": "stdout",
     "output_type": "stream",
     "text": [
      "mean (without using built in function) : 4.0\n",
      "mean  (using built in function) : 4.0 \n"
     ]
    }
   ],
   "source": [
    "#finding mean without using built in function\n",
    "sum=0\n",
    "for i in data:\n",
    "  sum=sum+i\n",
    "mean=sum/len(data)\n",
    "print(\"mean (without using built in function) :\",str(mean))\n",
    "\n",
    "#finding mean using built in function\n",
    "import numpy as np\n",
    "print (\"mean  (using built in function) : %s \"%np.mean(data))"
   ]
  },
  {
   "cell_type": "code",
   "execution_count": 3,
   "id": "2c1db610",
   "metadata": {},
   "outputs": [
    {
     "name": "stdout",
     "output_type": "stream",
     "text": [
      "the sorted data is : [2, 3, 4, 4, 5, 6]\n",
      "the median is : 4.0\n",
      "median(with using functions): 4.0\n"
     ]
    }
   ],
   "source": [
    "#finding median withou using built in function\n",
    "\n",
    "# let us find  the median\n",
    "sorted_data=sorted(data)\n",
    "print(\"the sorted data is :\",sorted_data)\n",
    "if n%2==0:\n",
    "  mid_index1=n//2\n",
    "  mid_index2=mid_index1-1\n",
    "  median=(sorted_data[mid_index1]+sorted_data[mid_index2])/2\n",
    "else:\n",
    "  mid_index=n//2\n",
    "  median=sorted_data[mid_index]\n",
    "print(\"the median is :\",median)\n",
    "\n",
    "\n",
    "\n",
    "#finding median using function\n",
    "import numpy as np\n",
    "print('median(with using functions): %s'%np.median(data))"
   ]
  },
  {
   "cell_type": "code",
   "execution_count": 4,
   "id": "08c7d240",
   "metadata": {},
   "outputs": [
    {
     "name": "stdout",
     "output_type": "stream",
     "text": [
      "mode without using builtin  [4]\n",
      "mode(with using functions): 4\n"
     ]
    }
   ],
   "source": [
    "# now let us find the mode\n",
    "count={}\n",
    "for element in data:\n",
    "  if element in count:\n",
    "    count[element] +=1\n",
    "  else:\n",
    "    count[element] =1\n",
    "max_counts=max(count.values())\n",
    "mode=[element for element,c in count.items() if c==max_counts]\n",
    "print(\"mode without using builtin \",mode)\n",
    "\n",
    "#finding mode using function\n",
    "import statistics as stat\n",
    "print('mode(with using functions): %s'%stat.mode(data))"
   ]
  },
  {
   "cell_type": "code",
   "execution_count": null,
   "id": "e90774c7",
   "metadata": {},
   "outputs": [],
   "source": []
  }
 ],
 "metadata": {
  "kernelspec": {
   "display_name": "Python 3 (ipykernel)",
   "language": "python",
   "name": "python3"
  },
  "language_info": {
   "codemirror_mode": {
    "name": "ipython",
    "version": 3
   },
   "file_extension": ".py",
   "mimetype": "text/x-python",
   "name": "python",
   "nbconvert_exporter": "python",
   "pygments_lexer": "ipython3",
   "version": "3.9.7"
  }
 },
 "nbformat": 4,
 "nbformat_minor": 5
}
