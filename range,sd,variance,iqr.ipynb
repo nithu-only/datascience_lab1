{
 "cells": [
  {
   "cell_type": "code",
   "execution_count": 1,
   "id": "75dd5d16",
   "metadata": {},
   "outputs": [
    {
     "name": "stdout",
     "output_type": "stream",
     "text": [
      "Enter the no elements:6\n",
      "Enter the element:3\n",
      "Enter the element:6\n",
      "Enter the element:2\n",
      "Enter the element:8\n",
      "Enter the element:6\n",
      "Enter the element:3\n",
      "The created list is [3, 6, 2, 8, 6, 3]\n"
     ]
    }
   ],
   "source": [
    "data=[]\n",
    "n=int(input(\"Enter the no elements:\"))\n",
    "for i in range(0,n):\n",
    "    ele=int(input(\"Enter the element:\"))\n",
    "    data.append(ele)\n",
    "print(\"The created list is\",data)\n"
   ]
  },
  {
   "cell_type": "code",
   "execution_count": 2,
   "id": "27dcb7ac",
   "metadata": {},
   "outputs": [
    {
     "name": "stdout",
     "output_type": "stream",
     "text": [
      "Range(without function): 6\n",
      "Range (with function): 6\n"
     ]
    }
   ],
   "source": [
    "#range without function\n",
    "minimum=maximum=data[0]\n",
    "for num in data:\n",
    "    if num<=minimum:\n",
    "        minimum=num\n",
    "    if num>=maximum:\n",
    "        maximum=num\n",
    "range_value=maximum-minimum\n",
    "print(\"Range(without function):\",range_value)\n",
    "#calculating range with fuction\n",
    "import numpy as np\n",
    "min=np.min(data)\n",
    "max=np.max(data)\n",
    "range1=max-min\n",
    "print(\"Range (with function):\",range1)\n"
   ]
  },
  {
   "cell_type": "code",
   "execution_count": null,
   "id": "771daf21",
   "metadata": {},
   "outputs": [],
   "source": []
  },
  {
   "cell_type": "code",
   "execution_count": 3,
   "id": "f8c8df52",
   "metadata": {},
   "outputs": [
    {
     "name": "stdout",
     "output_type": "stream",
     "text": [
      "The variance of the set (without function): 4.555555555555556\n",
      "variance(with function): 4.555555555555556\n"
     ]
    }
   ],
   "source": [
    "#calculating mean\n",
    "sum1=0\n",
    "for i in data:\n",
    "    sum1=sum1+i\n",
    "mean=sum1/len(data)\n",
    "\n",
    "#calculating the variance\n",
    "variance=sum((item-mean)**2 for item in data)/(len(data))\n",
    "print(\"The variance of the set (without function):\",variance)\n",
    "#calculating variance with fuction\n",
    "import numpy as np\n",
    "print(\"variance(with function):\",np.var(data))\n"
   ]
  },
  {
   "cell_type": "code",
   "execution_count": 6,
   "id": "1abecd62",
   "metadata": {},
   "outputs": [
    {
     "name": "stdout",
     "output_type": "stream",
     "text": [
      "The standard deviation (without function): 2.4899799195977463\n",
      "standard deviation (with function): 1.16619037896906\n"
     ]
    }
   ],
   "source": [
    "#calculating the standard deviation without function\n",
    "std=variance**0.5\n",
    "print(\"The standard deviation (without function):\",std)\n",
    "#without function\n",
    "import numpy as np\n",
    "print(\"standard deviation (with function):\",np.std(data))\n"
   ]
  },
  {
   "cell_type": "code",
   "execution_count": 4,
   "id": "73852044",
   "metadata": {},
   "outputs": [
    {
     "name": "stdout",
     "output_type": "stream",
     "text": [
      "IQR (without using fuction): 3.0\n",
      "IQR (with function): 3.0\n"
     ]
    }
   ],
   "source": [
    "#calculating iqr without function\n",
    "import numpy as np\n",
    "from scipy import stats\n",
    "q3,q1=np.percentile(data,[75,25],interpolation='midpoint')\n",
    "iqr=q3-q1\n",
    "print(\"IQR (without using fuction):\",iqr)\n",
    "#with function\n",
    "IQR=stats.iqr(data,interpolation='midpoint')\n",
    "print(\"IQR (with function):\",IQR)"
   ]
  },
  {
   "cell_type": "code",
   "execution_count": 5,
   "id": "1bd54ac2",
   "metadata": {},
   "outputs": [
    {
     "name": "stdout",
     "output_type": "stream",
     "text": [
      "enter the number of elements :6\n",
      "enter t1he elements :7\n",
      "enter t1he elements :2\n",
      "enter t1he elements :3\n",
      "enter t1he elements :5\n",
      "enter t1he elements :7\n",
      "enter t1he elements :4\n",
      "the created list is [7, 2, 3, 5, 7, 4]\n"
     ]
    }
   ],
   "source": [
    "# FIRST LET US CREATE AN LIST USING PROMPT\n",
    "data=[]\n",
    "n=int(input(\"enter the number of elements :\"))\n",
    "for i in range(0,n):\n",
    "  ele=int(input(\"enter t1he elements :\"))\n",
    "  data.append(ele)\n",
    "print(\"the created list is\",data)\n",
    "     "
   ]
  },
  {
   "cell_type": "code",
   "execution_count": 6,
   "id": "33ef9194",
   "metadata": {},
   "outputs": [
    {
     "name": "stdout",
     "output_type": "stream",
     "text": [
      "range (without function): 5\n",
      "range(with function) 5\n"
     ]
    }
   ],
   "source": [
    "minimum = maximum = data[0]\n",
    "for num in data:\n",
    "    if num <= minimum:\n",
    "        minimum = num\n",
    "    if num >= maximum:\n",
    "        maximum = num\n",
    "\n",
    "range_value = maximum - minimum\n",
    "print(\"range (without function):\", range_value)\n",
    "\n",
    "#range with function\n",
    "import numpy as np\n",
    "min=np.min(data)\n",
    "max=np.max(data)\n",
    "range1=max-min\n",
    "print('range(with function)',range1)\n",
    "     "
   ]
  },
  {
   "cell_type": "code",
   "execution_count": 8,
   "id": "34784bc1",
   "metadata": {},
   "outputs": [
    {
     "name": "stdout",
     "output_type": "stream",
     "text": [
      "The variance of the set without functions: 3.5555555555555554\n",
      "Variance (with function): 3.5555555555555554\n"
     ]
    }
   ],
   "source": [
    "sum1=0\n",
    "for i in data:\n",
    "  sum1=sum1+i\n",
    "mean=sum1/len(data)\n",
    "# Calculating the variance\n",
    "variance = sum((item - mean) ** 2 for item in data) / (len(data))\n",
    "print(\"The variance of the set without functions:\", variance)\n",
    "\n",
    "# Using the numpy function\n",
    "import numpy as np\n",
    "print(\"Variance (with function):\", np.var(data))\n",
    "     "
   ]
  },
  {
   "cell_type": "code",
   "execution_count": 9,
   "id": "b4135a46",
   "metadata": {},
   "outputs": [
    {
     "name": "stdout",
     "output_type": "stream",
     "text": [
      "The standard deviation without using function is: 1.8856180831641267\n",
      "standard deviation  (with function): 1.8856180831641267\n"
     ]
    }
   ],
   "source": [
    "# Calculating the standard deviation\n",
    "std = variance ** 0.5\n",
    "print(\"The standard deviation without using function is:\", std)\n",
    "\n",
    "# Using the numpy function\n",
    "import numpy as np\n",
    "print(\"standard deviation  (with function):\", np.std(data))\n"
   ]
  },
  {
   "cell_type": "code",
   "execution_count": 10,
   "id": "0788eab1",
   "metadata": {},
   "outputs": [
    {
     "name": "stdout",
     "output_type": "stream",
     "text": [
      "IQR without using function: 2.5\n",
      "IQR using function: 2.5\n"
     ]
    }
   ],
   "source": [
    "import numpy as np\n",
    "from scipy import stats\n",
    "\n",
    "\n",
    "# Calculate IQR without using function\n",
    "q3, q1 = np.percentile(data, [75, 25], interpolation='midpoint')\n",
    "iqr = q3 - q1\n",
    "print(\"IQR without using function:\", iqr)\n",
    "\n",
    "# Calculate IQR using function\n",
    "IQR = stats.iqr(data, interpolation='midpoint')\n",
    "print(\"IQR using function:\", IQR)\n",
    "     "
   ]
  },
  {
   "cell_type": "code",
   "execution_count": null,
   "id": "337d7723",
   "metadata": {},
   "outputs": [],
   "source": []
  }
 ],
 "metadata": {
  "kernelspec": {
   "display_name": "Python 3 (ipykernel)",
   "language": "python",
   "name": "python3"
  },
  "language_info": {
   "codemirror_mode": {
    "name": "ipython",
    "version": 3
   },
   "file_extension": ".py",
   "mimetype": "text/x-python",
   "name": "python",
   "nbconvert_exporter": "python",
   "pygments_lexer": "ipython3",
   "version": "3.9.7"
  }
 },
 "nbformat": 4,
 "nbformat_minor": 5
}
